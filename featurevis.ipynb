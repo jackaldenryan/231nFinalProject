{
 "cells": [
  {
   "cell_type": "code",
   "execution_count": 1,
   "metadata": {},
   "outputs": [],
   "source": [
    "%load_ext autoreload\n",
    "%autoreload 2"
   ]
  },
  {
   "cell_type": "code",
   "execution_count": 2,
   "metadata": {},
   "outputs": [],
   "source": [
    "import captum\n",
    "import captum.optim as optimviz\n",
    "import torch\n",
    "import torchvision"
   ]
  },
  {
   "cell_type": "code",
   "execution_count": 3,
   "metadata": {},
   "outputs": [
    {
     "output_type": "stream",
     "name": "stderr",
     "text": [
      "Using cache found in /home/jack/.cache/torch/hub/pytorch_vision_v0.9.0\n",
      "Downloading: \"https://download.pytorch.org/models/alexnet-owt-4df8aa71.pth\" to /home/jack/.cache/torch/hub/checkpoints/alexnet-owt-4df8aa71.pth\n"
     ]
    },
    {
     "output_type": "display_data",
     "data": {
      "text/plain": "  0%|          | 0.00/233M [00:00<?, ?B/s]",
      "application/vnd.jupyter.widget-view+json": {
       "version_major": 2,
       "version_minor": 0,
       "model_id": "20c4659023534865983cbcde41d5aa0d"
      }
     },
     "metadata": {}
    },
    {
     "output_type": "stream",
     "name": "stdout",
     "text": [
      "AlexNet(\n  (features): Sequential(\n    (0): Conv2d(3, 64, kernel_size=(11, 11), stride=(4, 4), padding=(2, 2))\n    (1): ReLU(inplace=True)\n    (2): MaxPool2d(kernel_size=3, stride=2, padding=0, dilation=1, ceil_mode=False)\n    (3): Conv2d(64, 192, kernel_size=(5, 5), stride=(1, 1), padding=(2, 2))\n    (4): ReLU(inplace=True)\n    (5): MaxPool2d(kernel_size=3, stride=2, padding=0, dilation=1, ceil_mode=False)\n    (6): Conv2d(192, 384, kernel_size=(3, 3), stride=(1, 1), padding=(1, 1))\n    (7): ReLU(inplace=True)\n    (8): Conv2d(384, 256, kernel_size=(3, 3), stride=(1, 1), padding=(1, 1))\n    (9): ReLU(inplace=True)\n    (10): Conv2d(256, 256, kernel_size=(3, 3), stride=(1, 1), padding=(1, 1))\n    (11): ReLU(inplace=True)\n    (12): MaxPool2d(kernel_size=3, stride=2, padding=0, dilation=1, ceil_mode=False)\n  )\n  (avgpool): AdaptiveAvgPool2d(output_size=(6, 6))\n  (classifier): Sequential(\n    (0): Dropout(p=0.5, inplace=False)\n    (1): Linear(in_features=9216, out_features=4096, bias=True)\n    (2): ReLU(inplace=True)\n    (3): Dropout(p=0.5, inplace=False)\n    (4): Linear(in_features=4096, out_features=4096, bias=True)\n    (5): ReLU(inplace=True)\n    (6): Linear(in_features=4096, out_features=1000, bias=True)\n  )\n)\n"
     ]
    }
   ],
   "source": [
    "from alexnet import model\n",
    "print(model)"
   ]
  },
  {
   "cell_type": "code",
   "execution_count": 4,
   "metadata": {},
   "outputs": [],
   "source": [
    "device = torch.device(\"cuda:0\" if torch.cuda.is_available() else \"cpu\")"
   ]
  },
  {
   "cell_type": "code",
<<<<<<< HEAD
   "execution_count": 5,
=======
   "execution_count": 1,
>>>>>>> 8ae857205b2c9f73241a4fc31101e734e618eeaf
   "metadata": {},
   "outputs": [
    {
     "ename": "NameError",
     "evalue": "name 'torch' is not defined",
     "output_type": "error",
     "traceback": [
      "\u001b[0;31m---------------------------------------------------------------------------\u001b[0m",
      "\u001b[0;31mNameError\u001b[0m                                 Traceback (most recent call last)",
      "\u001b[0;32m<ipython-input-1-5958bb9de4fe>\u001b[0m in \u001b[0;36m<module>\u001b[0;34m\u001b[0m\n\u001b[1;32m      4\u001b[0m \u001b[0;34m\u001b[0m\u001b[0m\n\u001b[1;32m      5\u001b[0m LossFunction = Callable[[\n\u001b[0;32m----> 6\u001b[0;31m     Dict[torch.nn.Module, Optional[torch.Tensor]]], torch.Tensor]\n\u001b[0m\u001b[1;32m      7\u001b[0m \u001b[0;34m\u001b[0m\u001b[0m\n\u001b[1;32m      8\u001b[0m \u001b[0;34m\u001b[0m\u001b[0m\n",
      "\u001b[0;31mNameError\u001b[0m: name 'torch' is not defined"
     ]
    }
   ],
   "source": [
    "from typing import Callable, Dict, List, Optional, Tuple\n",
    "import numpy as np\n",
    "import matplotlib.pyplot as plt\n",
    "\n",
    "LossFunction = Callable[[\n",
    "    Dict[torch.nn.Module, Optional[torch.Tensor]]], torch.Tensor]\n",
    "\n",
    "\n",
    "def show(\n",
    "    x: torch.Tensor, figsize: Optional[Tuple[int, int]] = None, scale: float = 255.0\n",
    ") -> None:\n",
    "    assert x.dim() == 3 or x.dim() == 4\n",
    "    x = x[0] if x.dim() == 4 else x\n",
    "    x = x.cpu().permute(1, 2, 0) * scale\n",
    "    if figsize is not None:\n",
    "        plt.figure(figsize=figsize)\n",
    "    plt.imshow(x.numpy().astype(np.uint8))\n",
    "    plt.axis(\"off\")\n",
    "    plt.show()\n",
    "\n",
    "\n",
    "def vis_neuron(\n",
    "    model: torch.nn.Module, target: torch.nn.Module, channel: int\n",
    ") -> torch.Tensor:\n",
    "    image = optimviz.images.NaturalImage((224, 224)).to(device)\n",
    "    loss_fn = optimviz.loss.NeuronActivation(target, channel)\n",
    "    transforms = torch.nn.Sequential(\n",
    "        torch.nn.ReflectionPad2d(4),\n",
    "        optimviz.transforms.RandomSpatialJitter(8),\n",
    "        optimviz.transforms.RandomScale(scale=(1, 0.975, 1.025, 0.95, 1.05)),\n",
    "        torchvision.transforms.RandomRotation(degrees=(-5, 5)),\n",
    "        optimviz.transforms.RandomSpatialJitter(2),\n",
    "    )\n",
    "    obj = optimviz.InputOptimization(\n",
    "        model, loss_fn, image, transforms)\n",
    "    history = obj.optimize(optimviz.optimization.n_steps(128, False))\n",
    "    return history\n",
    "\n",
    "# https://github.com/pytorch/captum/tree/optim-wip\n",
    "\n",
    "def visualize_neuron_list(\n",
    "    model: torch.nn.Module, target: torch.nn.Module, neuron_list: List[int]\n",
    ") -> List[torch.Tensor]:\n",
    "    A = []\n",
    "    for n in neuron_list:\n",
    "        loss_fn = optimviz.loss.NeuronActivation(target, n)\n",
    "        x_out = vis_neuron(model, target, loss_fn)\n",
    "        A.append(x_out.detach())\n",
    "    return A\n"
   ]
  },
  {
   "cell_type": "code",
   "execution_count": 6,
   "metadata": {},
   "outputs": [
    {
     "output_type": "stream",
     "name": "stderr",
     "text": [
      "/home/jack/.virtualenvs/231nFinalProject-TSlGgdSf/lib/python3.8/site-packages/torch/tensor.py:758: UserWarning: Named tensors and all their associated APIs are an experimental feature and subject to change. Please do not use them for anything important until they are released as stable. (Triggered internally at  /pytorch/c10/core/TensorImpl.h:934.)\n  return super(Tensor, self).refine_names(names)\n"
     ]
    },
    {
     "output_type": "execute_result",
     "data": {
      "text/plain": [
       "tensor([-0., -0., -0., -0., -0., -0., -0., -0., -0., -0., -0., -0., -0., -0., -0., -0., -0., -0., -0., -0., -0., -0., -0., -0.,\n",
       "        -0., -0., -0., -0., -0., -0., -0., -0., -0., -0., -0., -0., -0., -0., -0., -0., -0., -0., -0., -0., -0., -0., -0., -0.,\n",
       "        -0., -0., -0., -0., -0., -0., -0., -0., -0., -0., -0., -0., -0., -0., -0., -0., -0., -0., -0., -0., -0., -0., -0., -0.,\n",
       "        -0., -0., -0., -0., -0., -0., -0., -0., -0., -0., -0., -0., -0., -0., -0., -0., -0., -0., -0., -0., -0., -0., -0., -0.,\n",
       "        -0., -0., -0., -0., -0., -0., -0., -0., -0., -0., -0., -0., -0., -0., -0., -0., -0., -0., -0., -0., -0., -0., -0., -0.,\n",
       "        -0., -0., -0., -0., -0., -0., -0., -0.], device='cuda:0',\n",
       "       grad_fn=<StackBackward>)"
      ]
     },
     "metadata": {},
     "execution_count": 6
    }
   ],
   "source": [
    "vis_neuron(model, model.features[10], 0)"
   ]
  },
  {
   "cell_type": "code",
   "execution_count": null,
   "metadata": {},
   "outputs": [],
   "source": []
  }
 ],
 "metadata": {
  "interpreter": {
   "hash": "e9aa04b57f146d7d352f6fc1b467adc6e117028cfab206207519ff3bf0dbe093"
  },
  "kernelspec": {
<<<<<<< HEAD
   "name": "python385jvsc74a57bd06f4e8f286ff0f52abde25ec1ea91e8751b3c744ad1a790f6d8f0cec7cc3bf87c",
   "display_name": "Python 3.8.5 64-bit ('231nFinalProject-TSlGgdSf': pipenv)"
=======
   "display_name": "Python 3.8.5 64-bit ('231nFinalProject-K6JlCK0i': virtualenvwrapper)",
   "name": "python3"
>>>>>>> 8ae857205b2c9f73241a4fc31101e734e618eeaf
  },
  "language_info": {
   "codemirror_mode": {
    "name": "ipython",
    "version": 3
   },
   "file_extension": ".py",
   "mimetype": "text/x-python",
   "name": "python",
   "nbconvert_exporter": "python",
   "pygments_lexer": "ipython3",
   "version": "3.8.5"
  },
  "orig_nbformat": 2
 },
 "nbformat": 4,
 "nbformat_minor": 2
}
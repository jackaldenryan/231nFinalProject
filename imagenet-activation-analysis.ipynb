{
 "cells": [
  {
   "cell_type": "code",
   "execution_count": 32,
   "id": "1132065a",
   "metadata": {},
   "outputs": [],
   "source": [
    "import pickle\n",
    "\n",
    "# shape: activations[layer name][batch index] = nparray of (image idx, channel-mean activation)\n",
    "with open(\"./outputs/imagenet-activations.pickle\", \"rb\") as f:\n",
    "    activations = pickle.load(f)"
   ]
  },
  {
   "cell_type": "markdown",
   "id": "c3b97450",
   "metadata": {},
   "source": [
    "# Compute channel-wise mean and stddev"
   ]
  },
  {
   "cell_type": "code",
   "execution_count": 44,
   "id": "affd035b",
   "metadata": {},
   "outputs": [],
   "source": [
    "import numpy as np\n",
    "\n",
    "layer = \"fc\"\n",
    "\n",
    "channel_means = np.zeros((1000,))\n",
    "channel_stds = np.zeros((1000,))\n",
    "\n",
    "acts = np.zeros((1281167, 1000))\n",
    "i = 0\n",
    "for image_idx in activations[layer]:\n",
    "    acts[image_idx] = activations[layer][image_idx]\n",
    "\n",
    "channel_means = np.mean(acts, axis=0)\n",
    "channel_stds = np.std(acts, axis=0)"
   ]
  },
  {
   "cell_type": "markdown",
   "id": "db1ab0be",
   "metadata": {},
   "source": [
    "# Find highest-activating dataset examples for every neuron"
   ]
  },
  {
   "cell_type": "code",
   "execution_count": 22,
   "id": "4fe34124",
   "metadata": {},
   "outputs": [],
   "source": [
    "import torchvision\n",
    "import torch\n",
    "# Reproduce order from all_of_imagenet.py\n",
    "imagenet = torchvision.datasets.ImageNet('/datasets/imagenet/', split=\"train\")\n",
    "torch.manual_seed(1)\n",
    "dataloader = torch.utils.data.DataLoader(imagenet, batch_size=64,\n",
    "                                         shuffle=True)"
   ]
  },
  {
   "cell_type": "code",
   "execution_count": 14,
   "id": "4572590f",
   "metadata": {},
   "outputs": [
    {
     "name": "stdout",
     "output_type": "stream",
     "text": [
      "1281167\n"
     ]
    }
   ],
   "source": [
    "print(len(imagenet.samples))"
   ]
  },
  {
   "cell_type": "code",
   "execution_count": 49,
   "id": "f6495ccd",
   "metadata": {},
   "outputs": [],
   "source": [
    "from shutil import copyfile\n",
    "import os\n",
    "\n",
    "for neuron_idx in range(1000):\n",
    "    top_dset_indices = np.argsort(-acts[:, neuron_idx])[:10]\n",
    "    \n",
    "#     break\n",
    "    \n",
    "    os.makedirs(f\"./outputs/imagenet-activation-analysis/{str(neuron_idx)}/\", exist_ok=True)\n",
    "    \n",
    "    for top_idx, image_idx in enumerate(top_dset_indices):\n",
    "        filename, _ = imagenet.samples[image_idx]\n",
    "        copyfile(filename, f\"./outputs/imagenet-activation-analysis/{str(neuron_idx)}/{str(top_idx)}.jpg\")\n",
    "        "
   ]
  }
 ],
 "metadata": {
  "kernelspec": {
   "display_name": "Python 3",
   "language": "python",
   "name": "python3"
  },
  "language_info": {
   "codemirror_mode": {
    "name": "ipython",
    "version": 3
   },
   "file_extension": ".py",
   "mimetype": "text/x-python",
   "name": "python",
   "nbconvert_exporter": "python",
   "pygments_lexer": "ipython3",
   "version": "3.8.5"
  }
 },
 "nbformat": 4,
 "nbformat_minor": 5
}

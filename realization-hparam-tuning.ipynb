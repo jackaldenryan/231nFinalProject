{
 "cells": [
  {
   "cell_type": "code",
   "execution_count": 1,
   "metadata": {},
   "outputs": [],
   "source": [
    "%load_ext autoreload\n",
    "%autoreload 2"
   ]
  },
  {
   "cell_type": "code",
   "execution_count": 2,
   "metadata": {},
   "outputs": [],
   "source": [
    "import captum.optim as optimviz\n",
    "from inceptionv1 import model as inceptionv1\n",
    "import prior_optimization"
   ]
  },
  {
   "cell_type": "code",
   "execution_count": 3,
   "metadata": {
    "scrolled": true
   },
   "outputs": [
    {
     "name": "stdout",
     "output_type": "stream",
     "text": [
      "Inception(\n",
      "  (branch1): BasicConv2d(\n",
      "    (conv): Conv2d(832, 384, kernel_size=(1, 1), stride=(1, 1), bias=False)\n",
      "    (bn): BatchNorm2d(384, eps=0.001, momentum=0.1, affine=True, track_running_stats=True)\n",
      "  )\n",
      "  (branch2): Sequential(\n",
      "    (0): BasicConv2d(\n",
      "      (conv): Conv2d(832, 192, kernel_size=(1, 1), stride=(1, 1), bias=False)\n",
      "      (bn): BatchNorm2d(192, eps=0.001, momentum=0.1, affine=True, track_running_stats=True)\n",
      "    )\n",
      "    (1): BasicConv2d(\n",
      "      (conv): Conv2d(192, 384, kernel_size=(3, 3), stride=(1, 1), padding=(1, 1), bias=False)\n",
      "      (bn): BatchNorm2d(384, eps=0.001, momentum=0.1, affine=True, track_running_stats=True)\n",
      "    )\n",
      "  )\n",
      "  (branch3): Sequential(\n",
      "    (0): BasicConv2d(\n",
      "      (conv): Conv2d(832, 48, kernel_size=(1, 1), stride=(1, 1), bias=False)\n",
      "      (bn): BatchNorm2d(48, eps=0.001, momentum=0.1, affine=True, track_running_stats=True)\n",
      "    )\n",
      "    (1): BasicConv2d(\n",
      "      (conv): Conv2d(48, 128, kernel_size=(3, 3), stride=(1, 1), padding=(1, 1), bias=False)\n",
      "      (bn): BatchNorm2d(128, eps=0.001, momentum=0.1, affine=True, track_running_stats=True)\n",
      "    )\n",
      "  )\n",
      "  (branch4): Sequential(\n",
      "    (0): MaxPool2d(kernel_size=3, stride=1, padding=1, dilation=1, ceil_mode=True)\n",
      "    (1): BasicConv2d(\n",
      "      (conv): Conv2d(832, 128, kernel_size=(1, 1), stride=(1, 1), bias=False)\n",
      "      (bn): BatchNorm2d(128, eps=0.001, momentum=0.1, affine=True, track_running_stats=True)\n",
      "    )\n",
      "  )\n",
      ")\n"
     ]
    }
   ],
   "source": [
    "target = inceptionv1.inception5b\n",
    "channel = 309\n",
    "\n",
    "print(target)"
   ]
  },
  {
   "cell_type": "code",
   "execution_count": null,
   "metadata": {
    "scrolled": true
   },
   "outputs": [
    {
     "name": "stdout",
     "output_type": "stream",
     "text": [
      "Running on channel: 50\n",
      "Running optim with lr = 1.0\n",
      "Running on channel: 51\n",
      "Running optim with lr = 1.0\n",
      "Running on channel: 52\n",
      "Running optim with lr = 1.0\n",
      "Running on channel: 53\n",
      "Running optim with lr = 1.0\n",
      "Running on channel: 54\n",
      "Running optim with lr = 1.0\n",
      "Running on channel: 55\n",
      "Running optim with lr = 1.0\n",
      "Running on channel: 56\n",
      "Running optim with lr = 1.0\n",
      "Running on channel: 57\n",
      "Running optim with lr = 1.0\n"
     ]
    }
   ],
   "source": [
    "from prior_optimization import create_optimized_image, display_optimized_image\n",
    "import matplotlib.pyplot as plt\n",
    "import numpy as np\n",
    "\n",
    "\n",
    "for lr in np.logspace(0, -5, 7):\n",
    "    losses = []\n",
    "    for channel in range(50, 70):\n",
    "        print(\"Running on channel:\", channel)\n",
    "        biggan_input, loss_history, class_vector = create_optimized_image(target=target, channel=channel, n_steps=256, lr=lr, verbose=False)\n",
    "#         display_optimized_image(biggan_input)\n",
    "        loss_history = loss_history.cpu().detach().numpy()\n",
    "        avg_loss = np.mean(loss_history[-5:-1])\n",
    "        losses.append(avg_loss)\n",
    "    plt.title(f\"Learning rate search for {lr}\")\n",
    "    plt.ylabel(\"loss\")\n",
    "#     plt.xlabel(\"steps\")\n",
    "    plt.boxplot(losses)\n",
    "    plt.savefig(f\"lr-{lr}.png\")\n",
    "    plt.show()"
   ]
  }
 ],
 "metadata": {
  "interpreter": {
   "hash": "b784e07f7a34fe4df9e279946640a1bbdc27116264b8148e644e44e0b98b1006"
  },
  "kernelspec": {
   "display_name": "Python 3",
   "language": "python",
   "name": "python3"
  },
  "language_info": {
   "codemirror_mode": {
    "name": "ipython",
    "version": 3
   },
   "file_extension": ".py",
   "mimetype": "text/x-python",
   "name": "python",
   "nbconvert_exporter": "python",
   "pygments_lexer": "ipython3",
   "version": "3.8.5"
  },
  "metadata": {
   "interpreter": {
    "hash": "b943220e02383171ae0188c43f7eb4dd112185e5ffc2c3df37b96dbbc6174f68"
   }
  }
 },
 "nbformat": 4,
 "nbformat_minor": 4
}

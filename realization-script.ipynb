{
 "cells": [
  {
   "cell_type": "code",
   "execution_count": 1,
   "metadata": {},
   "outputs": [],
   "source": [
    "%load_ext autoreload\n",
    "%autoreload 2"
   ]
  },
  {
   "cell_type": "code",
   "execution_count": 2,
   "metadata": {},
   "outputs": [],
   "source": [
    "import prior_optimization\n",
    "from inceptionv1 import model as inceptionv1"
   ]
  },
  {
   "cell_type": "code",
   "execution_count": 11,
   "metadata": {},
   "outputs": [
    {
     "name": "stdout",
     "output_type": "stream",
     "text": [
      "Running on channel: 0\n",
      "Running optim with lr 0.0254 reg 0\n"
     ]
    },
    {
     "data": {
      "application/vnd.jupyter.widget-view+json": {
       "model_id": "7d1910521cf84241b85165b7c0e20357",
       "version_major": 2,
       "version_minor": 0
      },
      "text/plain": [
       "  0%|          | 0/256 [00:00<?, ? step/s]"
      ]
     },
     "metadata": {},
     "output_type": "display_data"
    },
    {
     "name": "stdout",
     "output_type": "stream",
     "text": [
      "L2 of class vector = tensor(12.6553, device='cuda:0', grad_fn=<SumBackward0>)\n",
      "Final loss: -66.16426\n",
      "Running on channel: 1\n",
      "Running optim with lr 0.0254 reg 0\n"
     ]
    },
    {
     "data": {
      "application/vnd.jupyter.widget-view+json": {
       "model_id": "bddd663355db465a90fc6774922be384",
       "version_major": 2,
       "version_minor": 0
      },
      "text/plain": [
       "  0%|          | 0/256 [00:00<?, ? step/s]"
      ]
     },
     "metadata": {},
     "output_type": "display_data"
    },
    {
     "name": "stdout",
     "output_type": "stream",
     "text": [
      "L2 of class vector = tensor(5.5581, device='cuda:0', grad_fn=<SumBackward0>)\n",
      "Final loss: -41.727657\n",
      "Running on channel: 2\n",
      "Running optim with lr 0.0254 reg 0\n"
     ]
    },
    {
     "data": {
      "application/vnd.jupyter.widget-view+json": {
       "model_id": "8754fe73721a4740a941ed15e1dc3bf4",
       "version_major": 2,
       "version_minor": 0
      },
      "text/plain": [
       "  0%|          | 0/256 [00:00<?, ? step/s]"
      ]
     },
     "metadata": {},
     "output_type": "display_data"
    },
    {
     "name": "stdout",
     "output_type": "stream",
     "text": [
      "L2 of class vector = tensor(12.0580, device='cuda:0', grad_fn=<SumBackward0>)\n",
      "Final loss: -25.157356\n",
      "Running on channel: 3\n",
      "Running optim with lr 0.0254 reg 0\n"
     ]
    },
    {
     "data": {
      "application/vnd.jupyter.widget-view+json": {
       "model_id": "8fd1496d3e054134a5d2477bcf537a9d",
       "version_major": 2,
       "version_minor": 0
      },
      "text/plain": [
       "  0%|          | 0/256 [00:00<?, ? step/s]"
      ]
     },
     "metadata": {},
     "output_type": "display_data"
    },
    {
     "name": "stdout",
     "output_type": "stream",
     "text": [
      "L2 of class vector = tensor(11.9928, device='cuda:0', grad_fn=<SumBackward0>)\n",
      "Final loss: -32.650314\n",
      "Running on channel: 4\n",
      "Running optim with lr 0.0254 reg 0\n"
     ]
    },
    {
     "data": {
      "application/vnd.jupyter.widget-view+json": {
       "model_id": "c8d7f5412a284de0b875b64e8b201ae1",
       "version_major": 2,
       "version_minor": 0
      },
      "text/plain": [
       "  0%|          | 0/256 [00:00<?, ? step/s]"
      ]
     },
     "metadata": {},
     "output_type": "display_data"
    },
    {
     "name": "stdout",
     "output_type": "stream",
     "text": [
      "L2 of class vector = tensor(16.4066, device='cuda:0', grad_fn=<SumBackward0>)\n",
      "Final loss: -14.751238\n",
      "Running on channel: 5\n",
      "Running optim with lr 0.0254 reg 0\n"
     ]
    },
    {
     "data": {
      "application/vnd.jupyter.widget-view+json": {
       "model_id": "d0de7245da764d6ba5b59c0d78c6d8f8",
       "version_major": 2,
       "version_minor": 0
      },
      "text/plain": [
       "  0%|          | 0/256 [00:00<?, ? step/s]"
      ]
     },
     "metadata": {},
     "output_type": "display_data"
    },
    {
     "name": "stdout",
     "output_type": "stream",
     "text": [
      "L2 of class vector = tensor(7.0566, device='cuda:0', grad_fn=<SumBackward0>)\n",
      "Final loss: 11.21805\n",
      "Running on channel: 6\n",
      "Running optim with lr 0.0254 reg 0\n"
     ]
    },
    {
     "data": {
      "application/vnd.jupyter.widget-view+json": {
       "model_id": "adf8f6ce336a498b92b37086da888337",
       "version_major": 2,
       "version_minor": 0
      },
      "text/plain": [
       "  0%|          | 0/256 [00:00<?, ? step/s]"
      ]
     },
     "metadata": {},
     "output_type": "display_data"
    },
    {
     "name": "stdout",
     "output_type": "stream",
     "text": [
      "L2 of class vector = tensor(15.5687, device='cuda:0', grad_fn=<SumBackward0>)\n",
      "Final loss: -30.900467\n",
      "Running on channel: 7\n",
      "Running optim with lr 0.0254 reg 0\n"
     ]
    },
    {
     "data": {
      "application/vnd.jupyter.widget-view+json": {
       "model_id": "3d319aa8c77740eab91d3255bd70a687",
       "version_major": 2,
       "version_minor": 0
      },
      "text/plain": [
       "  0%|          | 0/256 [00:00<?, ? step/s]"
      ]
     },
     "metadata": {},
     "output_type": "display_data"
    },
    {
     "name": "stdout",
     "output_type": "stream",
     "text": [
      "L2 of class vector = tensor(9.4377, device='cuda:0', grad_fn=<SumBackward0>)\n",
      "Final loss: -18.392172\n",
      "Running on channel: 8\n",
      "Running optim with lr 0.0254 reg 0\n"
     ]
    },
    {
     "data": {
      "application/vnd.jupyter.widget-view+json": {
       "model_id": "4c444bbd0d3d4b62a5f2bbe47b175696",
       "version_major": 2,
       "version_minor": 0
      },
      "text/plain": [
       "  0%|          | 0/256 [00:00<?, ? step/s]"
      ]
     },
     "metadata": {},
     "output_type": "display_data"
    },
    {
     "name": "stdout",
     "output_type": "stream",
     "text": [
      "L2 of class vector = tensor(12.9188, device='cuda:0', grad_fn=<SumBackward0>)\n",
      "Final loss: -14.532977\n",
      "Running on channel: 9\n",
      "Running optim with lr 0.0254 reg 0\n"
     ]
    },
    {
     "data": {
      "application/vnd.jupyter.widget-view+json": {
       "model_id": "0ffd4217e16540bd9e47b1fedfd8ecc2",
       "version_major": 2,
       "version_minor": 0
      },
      "text/plain": [
       "  0%|          | 0/256 [00:00<?, ? step/s]"
      ]
     },
     "metadata": {},
     "output_type": "display_data"
    },
    {
     "name": "stdout",
     "output_type": "stream",
     "text": [
      "L2 of class vector = tensor(3.5775, device='cuda:0', grad_fn=<SumBackward0>)\n",
      "Final loss: 1.2972274\n",
      "Running on channel: 10\n",
      "Running optim with lr 0.0254 reg 0\n"
     ]
    },
    {
     "data": {
      "application/vnd.jupyter.widget-view+json": {
       "model_id": "cf2af7c45447469cb875e1c02a650fd4",
       "version_major": 2,
       "version_minor": 0
      },
      "text/plain": [
       "  0%|          | 0/256 [00:00<?, ? step/s]"
      ]
     },
     "metadata": {},
     "output_type": "display_data"
    },
    {
     "name": "stdout",
     "output_type": "stream",
     "text": [
      "L2 of class vector = tensor(4.6638, device='cuda:0', grad_fn=<SumBackward0>)\n",
      "Final loss: 2.1946251\n",
      "Running on channel: 11\n",
      "Running optim with lr 0.0254 reg 0\n"
     ]
    },
    {
     "data": {
      "application/vnd.jupyter.widget-view+json": {
       "model_id": "35c96a21e4a64af28fd1a07b45a77ad3",
       "version_major": 2,
       "version_minor": 0
      },
      "text/plain": [
       "  0%|          | 0/256 [00:00<?, ? step/s]"
      ]
     },
     "metadata": {},
     "output_type": "display_data"
    },
    {
     "name": "stdout",
     "output_type": "stream",
     "text": [
      "L2 of class vector = tensor(11.0104, device='cuda:0', grad_fn=<SumBackward0>)\n",
      "Final loss: 2.0170572\n",
      "Running on channel: 12\n",
      "Running optim with lr 0.0254 reg 0\n"
     ]
    },
    {
     "data": {
      "application/vnd.jupyter.widget-view+json": {
       "model_id": "c0af93e55c7944ada9fc74fcdcf84d89",
       "version_major": 2,
       "version_minor": 0
      },
      "text/plain": [
       "  0%|          | 0/256 [00:00<?, ? step/s]"
      ]
     },
     "metadata": {},
     "output_type": "display_data"
    },
    {
     "name": "stdout",
     "output_type": "stream",
     "text": [
      "L2 of class vector = tensor(10.2872, device='cuda:0', grad_fn=<SumBackward0>)\n",
      "Final loss: -21.646412\n",
      "Running on channel: 13\n",
      "Running optim with lr 0.0254 reg 0\n"
     ]
    },
    {
     "data": {
      "application/vnd.jupyter.widget-view+json": {
       "model_id": "49b628e129424b998ded8df5d6ddfeac",
       "version_major": 2,
       "version_minor": 0
      },
      "text/plain": [
       "  0%|          | 0/256 [00:00<?, ? step/s]"
      ]
     },
     "metadata": {},
     "output_type": "display_data"
    },
    {
     "name": "stdout",
     "output_type": "stream",
     "text": [
      "L2 of class vector = tensor(7.2894, device='cuda:0', grad_fn=<SumBackward0>)\n",
      "Final loss: 2.546285\n",
      "Running on channel: 14\n",
      "Running optim with lr 0.0254 reg 0\n"
     ]
    },
    {
     "data": {
      "application/vnd.jupyter.widget-view+json": {
       "model_id": "2ec5869977a44bd7a9a8bb6617794234",
       "version_major": 2,
       "version_minor": 0
      },
      "text/plain": [
       "  0%|          | 0/256 [00:00<?, ? step/s]"
      ]
     },
     "metadata": {},
     "output_type": "display_data"
    },
    {
     "name": "stdout",
     "output_type": "stream",
     "text": [
      "L2 of class vector = tensor(6.8899, device='cuda:0', grad_fn=<SumBackward0>)\n",
      "Final loss: -16.656315\n",
      "Running on channel: 15\n",
      "Running optim with lr 0.0254 reg 0\n"
     ]
    },
    {
     "data": {
      "application/vnd.jupyter.widget-view+json": {
       "model_id": "2f81c1fd41df4dac8d51d62297c8423a",
       "version_major": 2,
       "version_minor": 0
      },
      "text/plain": [
       "  0%|          | 0/256 [00:00<?, ? step/s]"
      ]
     },
     "metadata": {},
     "output_type": "display_data"
    },
    {
     "name": "stdout",
     "output_type": "stream",
     "text": [
      "L2 of class vector = tensor(6.0403, device='cuda:0', grad_fn=<SumBackward0>)\n",
      "Final loss: -35.340706\n",
      "Running on channel: 16\n",
      "Running optim with lr 0.0254 reg 0\n"
     ]
    },
    {
     "data": {
      "application/vnd.jupyter.widget-view+json": {
       "model_id": "3c8ec016dc964264aed90d087039fda2",
       "version_major": 2,
       "version_minor": 0
      },
      "text/plain": [
       "  0%|          | 0/256 [00:00<?, ? step/s]"
      ]
     },
     "metadata": {},
     "output_type": "display_data"
    },
    {
     "name": "stdout",
     "output_type": "stream",
     "text": [
      "L2 of class vector = tensor(5.7206, device='cuda:0', grad_fn=<SumBackward0>)\n",
      "Final loss: -4.3461947\n",
      "Running on channel: 17\n",
      "Running optim with lr 0.0254 reg 0\n"
     ]
    },
    {
     "data": {
      "application/vnd.jupyter.widget-view+json": {
       "model_id": "ada6321975fb4ea89a0ca71ff6265625",
       "version_major": 2,
       "version_minor": 0
      },
      "text/plain": [
       "  0%|          | 0/256 [00:00<?, ? step/s]"
      ]
     },
     "metadata": {},
     "output_type": "display_data"
    },
    {
     "name": "stdout",
     "output_type": "stream",
     "text": [
      "L2 of class vector = tensor(9.1374, device='cuda:0', grad_fn=<SumBackward0>)\n",
      "Final loss: -5.4266233\n",
      "Running on channel: 18\n",
      "Running optim with lr 0.0254 reg 0\n"
     ]
    },
    {
     "data": {
      "application/vnd.jupyter.widget-view+json": {
       "model_id": "48ab3dcf72fd41608a77b64ba72df69c",
       "version_major": 2,
       "version_minor": 0
      },
      "text/plain": [
       "  0%|          | 0/256 [00:00<?, ? step/s]"
      ]
     },
     "metadata": {},
     "output_type": "display_data"
    },
    {
     "name": "stdout",
     "output_type": "stream",
     "text": [
      "L2 of class vector = tensor(9.6447, device='cuda:0', grad_fn=<SumBackward0>)\n",
      "Final loss: -9.887955\n",
      "Running on channel: 19\n",
      "Running optim with lr 0.0254 reg 0\n"
     ]
    },
    {
     "data": {
      "application/vnd.jupyter.widget-view+json": {
       "model_id": "c14b1390948c425e9255bdc97cab6831",
       "version_major": 2,
       "version_minor": 0
      },
      "text/plain": [
       "  0%|          | 0/256 [00:00<?, ? step/s]"
      ]
     },
     "metadata": {},
     "output_type": "display_data"
    },
    {
     "name": "stdout",
     "output_type": "stream",
     "text": [
      "L2 of class vector = tensor(3.5097, device='cuda:0', grad_fn=<SumBackward0>)\n",
      "Final loss: -29.931992\n",
      "Running on channel: 20\n",
      "Running optim with lr 0.0254 reg 0\n"
     ]
    },
    {
     "data": {
      "application/vnd.jupyter.widget-view+json": {
       "model_id": "c1666d5dc45a4eddbfce894181b4fc99",
       "version_major": 2,
       "version_minor": 0
      },
      "text/plain": [
       "  0%|          | 0/256 [00:00<?, ? step/s]"
      ]
     },
     "metadata": {},
     "output_type": "display_data"
    },
    {
     "name": "stdout",
     "output_type": "stream",
     "text": [
      "L2 of class vector = tensor(8.0278, device='cuda:0', grad_fn=<SumBackward0>)\n",
      "Final loss: -5.1295304\n",
      "Running on channel: 21\n",
      "Running optim with lr 0.0254 reg 0\n"
     ]
    },
    {
     "data": {
      "application/vnd.jupyter.widget-view+json": {
       "model_id": "5d7acccf08114eefaff07d66337b72f0",
       "version_major": 2,
       "version_minor": 0
      },
      "text/plain": [
       "  0%|          | 0/256 [00:00<?, ? step/s]"
      ]
     },
     "metadata": {},
     "output_type": "display_data"
    },
    {
     "name": "stdout",
     "output_type": "stream",
     "text": [
      "L2 of class vector = tensor(4.5854, device='cuda:0', grad_fn=<SumBackward0>)\n",
      "Final loss: 1.5782979\n",
      "Running on channel: 22\n",
      "Running optim with lr 0.0254 reg 0\n"
     ]
    },
    {
     "data": {
      "application/vnd.jupyter.widget-view+json": {
       "model_id": "24e841cb99684833a9922932f1cc7b46",
       "version_major": 2,
       "version_minor": 0
      },
      "text/plain": [
       "  0%|          | 0/256 [00:00<?, ? step/s]"
      ]
     },
     "metadata": {},
     "output_type": "display_data"
    },
    {
     "name": "stdout",
     "output_type": "stream",
     "text": [
      "L2 of class vector = tensor(14.2390, device='cuda:0', grad_fn=<SumBackward0>)\n",
      "Final loss: -38.94388\n",
      "Running on channel: 23\n",
      "Running optim with lr 0.0254 reg 0\n"
     ]
    },
    {
     "data": {
      "application/vnd.jupyter.widget-view+json": {
       "model_id": "42f3019a69384502abb4c63f5ecadb2b",
       "version_major": 2,
       "version_minor": 0
      },
      "text/plain": [
       "  0%|          | 0/256 [00:00<?, ? step/s]"
      ]
     },
     "metadata": {},
     "output_type": "display_data"
    },
    {
     "name": "stdout",
     "output_type": "stream",
     "text": [
      "L2 of class vector = tensor(2.7338, device='cuda:0', grad_fn=<SumBackward0>)\n",
      "Final loss: -47.440765\n",
      "Running on channel: 24\n",
      "Running optim with lr 0.0254 reg 0\n"
     ]
    },
    {
     "data": {
      "application/vnd.jupyter.widget-view+json": {
       "model_id": "4bccf09a862b4501972b0955f5e3bc4f",
       "version_major": 2,
       "version_minor": 0
      },
      "text/plain": [
       "  0%|          | 0/256 [00:00<?, ? step/s]"
      ]
     },
     "metadata": {},
     "output_type": "display_data"
    },
    {
     "name": "stdout",
     "output_type": "stream",
     "text": [
      "L2 of class vector = tensor(7.8830, device='cuda:0', grad_fn=<SumBackward0>)\n",
      "Final loss: -31.703718\n",
      "Running on channel: 25\n",
      "Running optim with lr 0.0254 reg 0\n"
     ]
    },
    {
     "data": {
      "application/vnd.jupyter.widget-view+json": {
       "model_id": "6696af10637544c1b775f50959ac43dd",
       "version_major": 2,
       "version_minor": 0
      },
      "text/plain": [
       "  0%|          | 0/256 [00:00<?, ? step/s]"
      ]
     },
     "metadata": {},
     "output_type": "display_data"
    },
    {
     "name": "stdout",
     "output_type": "stream",
     "text": [
      "L2 of class vector = tensor(10.9642, device='cuda:0', grad_fn=<SumBackward0>)\n",
      "Final loss: -14.936055\n",
      "Running on channel: 26\n",
      "Running optim with lr 0.0254 reg 0\n"
     ]
    },
    {
     "data": {
      "application/vnd.jupyter.widget-view+json": {
       "model_id": "a5d4e3d71c2f43bf8f97d928363745b9",
       "version_major": 2,
       "version_minor": 0
      },
      "text/plain": [
       "  0%|          | 0/256 [00:00<?, ? step/s]"
      ]
     },
     "metadata": {},
     "output_type": "display_data"
    },
    {
     "name": "stdout",
     "output_type": "stream",
     "text": [
      "L2 of class vector = tensor(11.7112, device='cuda:0', grad_fn=<SumBackward0>)\n",
      "Final loss: -45.951187\n",
      "Running on channel: 27\n",
      "Running optim with lr 0.0254 reg 0\n"
     ]
    },
    {
     "data": {
      "application/vnd.jupyter.widget-view+json": {
       "model_id": "90b2bd3e8ab14d75a82ee9259c43cf35",
       "version_major": 2,
       "version_minor": 0
      },
      "text/plain": [
       "  0%|          | 0/256 [00:00<?, ? step/s]"
      ]
     },
     "metadata": {},
     "output_type": "display_data"
    },
    {
     "name": "stdout",
     "output_type": "stream",
     "text": [
      "L2 of class vector = tensor(7.0266, device='cuda:0', grad_fn=<SumBackward0>)\n",
      "Final loss: -86.12824\n",
      "Running on channel: 28\n",
      "Running optim with lr 0.0254 reg 0\n"
     ]
    },
    {
     "data": {
      "application/vnd.jupyter.widget-view+json": {
       "model_id": "7d52e474be6a4b969ee5d1eeb29128f6",
       "version_major": 2,
       "version_minor": 0
      },
      "text/plain": [
       "  0%|          | 0/256 [00:00<?, ? step/s]"
      ]
     },
     "metadata": {},
     "output_type": "display_data"
    },
    {
     "name": "stdout",
     "output_type": "stream",
     "text": [
      "L2 of class vector = tensor(4.7667, device='cuda:0', grad_fn=<SumBackward0>)\n",
      "Final loss: -7.9503417\n",
      "Running on channel: 29\n",
      "Running optim with lr 0.0254 reg 0\n"
     ]
    },
    {
     "data": {
      "application/vnd.jupyter.widget-view+json": {
       "model_id": "8f30631440ac48129f59e559ee4fe471",
       "version_major": 2,
       "version_minor": 0
      },
      "text/plain": [
       "  0%|          | 0/256 [00:00<?, ? step/s]"
      ]
     },
     "metadata": {},
     "output_type": "display_data"
    },
    {
     "name": "stdout",
     "output_type": "stream",
     "text": [
      "L2 of class vector = tensor(13.1317, device='cuda:0', grad_fn=<SumBackward0>)\n",
      "Final loss: 1.3125155\n",
      "Running on channel: 30\n",
      "Running optim with lr 0.0254 reg 0\n"
     ]
    },
    {
     "data": {
      "application/vnd.jupyter.widget-view+json": {
       "model_id": "b156e74f385b4e098e4c98fde26e4062",
       "version_major": 2,
       "version_minor": 0
      },
      "text/plain": [
       "  0%|          | 0/256 [00:00<?, ? step/s]"
      ]
     },
     "metadata": {},
     "output_type": "display_data"
    },
    {
     "name": "stdout",
     "output_type": "stream",
     "text": [
      "L2 of class vector = tensor(10.3678, device='cuda:0', grad_fn=<SumBackward0>)\n",
      "Final loss: -40.501812\n",
      "Running on channel: 31\n",
      "Running optim with lr 0.0254 reg 0\n"
     ]
    },
    {
     "data": {
      "application/vnd.jupyter.widget-view+json": {
       "model_id": "3b8aefb9230944c9ac2e29c79853137a",
       "version_major": 2,
       "version_minor": 0
      },
      "text/plain": [
       "  0%|          | 0/256 [00:00<?, ? step/s]"
      ]
     },
     "metadata": {},
     "output_type": "display_data"
    },
    {
     "name": "stdout",
     "output_type": "stream",
     "text": [
      "L2 of class vector = tensor(8.3100, device='cuda:0', grad_fn=<SumBackward0>)\n",
      "Final loss: -34.82682\n",
      "Running on channel: 32\n",
      "Running optim with lr 0.0254 reg 0\n"
     ]
    },
    {
     "data": {
      "application/vnd.jupyter.widget-view+json": {
       "model_id": "2d352bd29f8247f9a21bb2cc8ffba95e",
       "version_major": 2,
       "version_minor": 0
      },
      "text/plain": [
       "  0%|          | 0/256 [00:00<?, ? step/s]"
      ]
     },
     "metadata": {},
     "output_type": "display_data"
    },
    {
     "name": "stdout",
     "output_type": "stream",
     "text": [
      "L2 of class vector = tensor(14.3630, device='cuda:0', grad_fn=<SumBackward0>)\n",
      "Final loss: -95.219185\n",
      "Running on channel: 33\n",
      "Running optim with lr 0.0254 reg 0\n"
     ]
    },
    {
     "data": {
      "application/vnd.jupyter.widget-view+json": {
       "model_id": "fa8778462d814515b996bfdb85c70e5c",
       "version_major": 2,
       "version_minor": 0
      },
      "text/plain": [
       "  0%|          | 0/256 [00:00<?, ? step/s]"
      ]
     },
     "metadata": {},
     "output_type": "display_data"
    },
    {
     "name": "stdout",
     "output_type": "stream",
     "text": [
      "L2 of class vector = tensor(16.3597, device='cuda:0', grad_fn=<SumBackward0>)\n",
      "Final loss: -25.891233\n",
      "Running on channel: 34\n",
      "Running optim with lr 0.0254 reg 0\n"
     ]
    },
    {
     "data": {
      "application/vnd.jupyter.widget-view+json": {
       "model_id": "79d8527157f84d4bbd312550f36faad4",
       "version_major": 2,
       "version_minor": 0
      },
      "text/plain": [
       "  0%|          | 0/256 [00:00<?, ? step/s]"
      ]
     },
     "metadata": {},
     "output_type": "display_data"
    },
    {
     "name": "stdout",
     "output_type": "stream",
     "text": [
      "L2 of class vector = tensor(13.1617, device='cuda:0', grad_fn=<SumBackward0>)\n",
      "Final loss: -33.83903\n",
      "Running on channel: 35\n",
      "Running optim with lr 0.0254 reg 0\n"
     ]
    },
    {
     "data": {
      "application/vnd.jupyter.widget-view+json": {
       "model_id": "f537a7e7fea34cfe82072f609b46e553",
       "version_major": 2,
       "version_minor": 0
      },
      "text/plain": [
       "  0%|          | 0/256 [00:00<?, ? step/s]"
      ]
     },
     "metadata": {},
     "output_type": "display_data"
    },
    {
     "name": "stdout",
     "output_type": "stream",
     "text": [
      "L2 of class vector = tensor(10.0996, device='cuda:0', grad_fn=<SumBackward0>)\n",
      "Final loss: -6.574798\n",
      "Running on channel: 36\n",
      "Running optim with lr 0.0254 reg 0\n"
     ]
    },
    {
     "data": {
      "application/vnd.jupyter.widget-view+json": {
       "model_id": "de788cf0c5ca40208fab5fe000a8fefb",
       "version_major": 2,
       "version_minor": 0
      },
      "text/plain": [
       "  0%|          | 0/256 [00:00<?, ? step/s]"
      ]
     },
     "metadata": {},
     "output_type": "display_data"
    },
    {
     "name": "stdout",
     "output_type": "stream",
     "text": [
      "L2 of class vector = tensor(7.6176, device='cuda:0', grad_fn=<SumBackward0>)\n",
      "Final loss: -43.675762\n",
      "Running on channel: 37\n",
      "Running optim with lr 0.0254 reg 0\n"
     ]
    },
    {
     "data": {
      "application/vnd.jupyter.widget-view+json": {
       "model_id": "fbc6293ccd144cb984e49538b927bf84",
       "version_major": 2,
       "version_minor": 0
      },
      "text/plain": [
       "  0%|          | 0/256 [00:00<?, ? step/s]"
      ]
     },
     "metadata": {},
     "output_type": "display_data"
    },
    {
     "name": "stdout",
     "output_type": "stream",
     "text": [
      "L2 of class vector = tensor(5.6929, device='cuda:0', grad_fn=<SumBackward0>)\n",
      "Final loss: -3.9709628\n",
      "Running on channel: 38\n",
      "Running optim with lr 0.0254 reg 0\n"
     ]
    },
    {
     "data": {
      "application/vnd.jupyter.widget-view+json": {
       "model_id": "39c9f6e86c5e4786a4bf6ffbfa6975b7",
       "version_major": 2,
       "version_minor": 0
      },
      "text/plain": [
       "  0%|          | 0/256 [00:00<?, ? step/s]"
      ]
     },
     "metadata": {},
     "output_type": "display_data"
    },
    {
     "name": "stdout",
     "output_type": "stream",
     "text": [
      "L2 of class vector = tensor(11.3752, device='cuda:0', grad_fn=<SumBackward0>)\n",
      "Final loss: -61.69823\n",
      "Running on channel: 39\n",
      "Running optim with lr 0.0254 reg 0\n"
     ]
    },
    {
     "data": {
      "application/vnd.jupyter.widget-view+json": {
       "model_id": "af17f4c640dd40879b13621653367a1c",
       "version_major": 2,
       "version_minor": 0
      },
      "text/plain": [
       "  0%|          | 0/256 [00:00<?, ? step/s]"
      ]
     },
     "metadata": {},
     "output_type": "display_data"
    },
    {
     "name": "stdout",
     "output_type": "stream",
     "text": [
      "L2 of class vector = tensor(18.8569, device='cuda:0', grad_fn=<SumBackward0>)\n",
      "Final loss: -98.90774\n",
      "Running on channel: 40\n",
      "Running optim with lr 0.0254 reg 0\n"
     ]
    },
    {
     "data": {
      "application/vnd.jupyter.widget-view+json": {
       "model_id": "384429b124c04b7aa79a1f417e3d0a9b",
       "version_major": 2,
       "version_minor": 0
      },
      "text/plain": [
       "  0%|          | 0/256 [00:00<?, ? step/s]"
      ]
     },
     "metadata": {},
     "output_type": "display_data"
    },
    {
     "name": "stdout",
     "output_type": "stream",
     "text": [
      "L2 of class vector = tensor(8.0964, device='cuda:0', grad_fn=<SumBackward0>)\n",
      "Final loss: -0.09293829\n",
      "Running on channel: 41\n",
      "Running optim with lr 0.0254 reg 0\n"
     ]
    },
    {
     "data": {
      "application/vnd.jupyter.widget-view+json": {
       "model_id": "6ec53d458f4e497aa646fb762ba5a73e",
       "version_major": 2,
       "version_minor": 0
      },
      "text/plain": [
       "  0%|          | 0/256 [00:00<?, ? step/s]"
      ]
     },
     "metadata": {},
     "output_type": "display_data"
    },
    {
     "name": "stdout",
     "output_type": "stream",
     "text": [
      "L2 of class vector = tensor(7.8199, device='cuda:0', grad_fn=<SumBackward0>)\n",
      "Final loss: -24.404808\n",
      "Running on channel: 42\n",
      "Running optim with lr 0.0254 reg 0\n"
     ]
    },
    {
     "data": {
      "application/vnd.jupyter.widget-view+json": {
       "model_id": "fbe72fe47e314160b66dd50a57eac693",
       "version_major": 2,
       "version_minor": 0
      },
      "text/plain": [
       "  0%|          | 0/256 [00:00<?, ? step/s]"
      ]
     },
     "metadata": {},
     "output_type": "display_data"
    },
    {
     "name": "stdout",
     "output_type": "stream",
     "text": [
      "L2 of class vector = tensor(10.4653, device='cuda:0', grad_fn=<SumBackward0>)\n",
      "Final loss: -69.24906\n",
      "Running on channel: 43\n",
      "Running optim with lr 0.0254 reg 0\n"
     ]
    },
    {
     "data": {
      "application/vnd.jupyter.widget-view+json": {
       "model_id": "255e4b2c2516420ba0dd32b3ac58733c",
       "version_major": 2,
       "version_minor": 0
      },
      "text/plain": [
       "  0%|          | 0/256 [00:00<?, ? step/s]"
      ]
     },
     "metadata": {},
     "output_type": "display_data"
    },
    {
     "name": "stdout",
     "output_type": "stream",
     "text": [
      "L2 of class vector = tensor(10.0737, device='cuda:0', grad_fn=<SumBackward0>)\n",
      "Final loss: -42.852894\n",
      "Running on channel: 44\n",
      "Running optim with lr 0.0254 reg 0\n"
     ]
    },
    {
     "data": {
      "application/vnd.jupyter.widget-view+json": {
       "model_id": "fff1f7c169eb4b008063bf60ef621d02",
       "version_major": 2,
       "version_minor": 0
      },
      "text/plain": [
       "  0%|          | 0/256 [00:00<?, ? step/s]"
      ]
     },
     "metadata": {},
     "output_type": "display_data"
    },
    {
     "name": "stdout",
     "output_type": "stream",
     "text": [
      "L2 of class vector = tensor(5.8148, device='cuda:0', grad_fn=<SumBackward0>)\n",
      "Final loss: -6.4263597\n",
      "Running on channel: 45\n",
      "Running optim with lr 0.0254 reg 0\n"
     ]
    },
    {
     "data": {
      "application/vnd.jupyter.widget-view+json": {
       "model_id": "2dccd5d21f2d454cb7e5410124f6b1b9",
       "version_major": 2,
       "version_minor": 0
      },
      "text/plain": [
       "  0%|          | 0/256 [00:00<?, ? step/s]"
      ]
     },
     "metadata": {},
     "output_type": "display_data"
    },
    {
     "name": "stdout",
     "output_type": "stream",
     "text": [
      "L2 of class vector = tensor(8.7637, device='cuda:0', grad_fn=<SumBackward0>)\n",
      "Final loss: -14.756024\n",
      "Running on channel: 46\n",
      "Running optim with lr 0.0254 reg 0\n"
     ]
    },
    {
     "data": {
      "application/vnd.jupyter.widget-view+json": {
       "model_id": "e79ad9884d744e47a48aa9038fb6a935",
       "version_major": 2,
       "version_minor": 0
      },
      "text/plain": [
       "  0%|          | 0/256 [00:00<?, ? step/s]"
      ]
     },
     "metadata": {},
     "output_type": "display_data"
    },
    {
     "name": "stdout",
     "output_type": "stream",
     "text": [
      "L2 of class vector = tensor(7.1287, device='cuda:0', grad_fn=<SumBackward0>)\n",
      "Final loss: 2.2533433\n",
      "Running on channel: 47\n",
      "Running optim with lr 0.0254 reg 0\n"
     ]
    },
    {
     "data": {
      "application/vnd.jupyter.widget-view+json": {
       "model_id": "aea3b0a810e044e486b27bafa2f61965",
       "version_major": 2,
       "version_minor": 0
      },
      "text/plain": [
       "  0%|          | 0/256 [00:00<?, ? step/s]"
      ]
     },
     "metadata": {},
     "output_type": "display_data"
    },
    {
     "name": "stdout",
     "output_type": "stream",
     "text": [
      "L2 of class vector = tensor(8.9260, device='cuda:0', grad_fn=<SumBackward0>)\n",
      "Final loss: -66.84202\n",
      "Running on channel: 48\n",
      "Running optim with lr 0.0254 reg 0\n"
     ]
    },
    {
     "data": {
      "application/vnd.jupyter.widget-view+json": {
       "model_id": "542de465d7aa415493e9f886c9b4474d",
       "version_major": 2,
       "version_minor": 0
      },
      "text/plain": [
       "  0%|          | 0/256 [00:00<?, ? step/s]"
      ]
     },
     "metadata": {},
     "output_type": "display_data"
    },
    {
     "name": "stdout",
     "output_type": "stream",
     "text": [
      "L2 of class vector = tensor(19.0787, device='cuda:0', grad_fn=<SumBackward0>)\n",
      "Final loss: -50.00345\n",
      "Running on channel: 49\n",
      "Running optim with lr 0.0254 reg 0\n"
     ]
    },
    {
     "data": {
      "application/vnd.jupyter.widget-view+json": {
       "model_id": "1679bac63d994c4a9d6463c7e232da8b",
       "version_major": 2,
       "version_minor": 0
      },
      "text/plain": [
       "  0%|          | 0/256 [00:00<?, ? step/s]"
      ]
     },
     "metadata": {},
     "output_type": "display_data"
    },
    {
     "name": "stdout",
     "output_type": "stream",
     "text": [
      "L2 of class vector = tensor(5.9579, device='cuda:0', grad_fn=<SumBackward0>)\n",
      "Final loss: 3.3829744\n"
     ]
    }
   ],
   "source": [
    "# Test FC channels from 50-70\n",
    "target = inceptionv1.fc\n",
    "lr = 0.0254\n",
    "reg = 0\n",
    "\n",
    "histories = []\n",
    "\n",
    "for channel in range(0, 50):\n",
    "    print(\"Running on channel:\", channel)\n",
    "    biggan_input, loss_history, class_vector = prior_optimization.create_optimized_image(target=target, channel=channel, n_steps=256, lr=lr, reg=0, verbose=True)\n",
    "#     prior_optimization.display_optimized_image(biggan_input)\n",
    "    loss_history = loss_history.cpu().detach().numpy()\n",
    "    print(\"Final loss:\", loss_history[-1])\n",
    "    histories.append(loss_history)\n",
    "    img = prior_optimization.input_to_img(biggan_input)\n",
    "\n",
    "    img.save(\n",
    "        f\"outputs/realization-fc-0531/channel-{str(channel)}-reg-{str(reg)}.png\")"
   ]
  },
  {
   "cell_type": "code",
   "execution_count": 3,
   "metadata": {},
   "outputs": [],
   "source": [
    "with open(\"outputs/realization-fc/loss_histories.pickle\", \"wb\") as f:\n",
    "    pickle.dump(histories, f)"
   ]
  },
  {
   "cell_type": "code",
   "execution_count": null,
   "metadata": {},
   "outputs": [],
   "source": [
    "import matplotlib.pyplot as plt\n",
    "\n",
    "plt.title(\"Loss of neurons 1-50\")\n",
    "plt.ylabel(\"Loss\")\n",
    "plt.xlabel(\"Steps\")\n",
    "\n",
    "for curve in histories:\n",
    "    plt.plot(curve)"
   ]
  }
 ],
 "metadata": {
  "kernelspec": {
   "display_name": "Python 3",
   "language": "python",
   "name": "python3"
  },
  "language_info": {
   "codemirror_mode": {
    "name": "ipython",
    "version": 3
   },
   "file_extension": ".py",
   "mimetype": "text/x-python",
   "name": "python",
   "nbconvert_exporter": "python",
   "pygments_lexer": "ipython3",
   "version": "3.8.5"
  }
 },
 "nbformat": 4,
 "nbformat_minor": 2
}
